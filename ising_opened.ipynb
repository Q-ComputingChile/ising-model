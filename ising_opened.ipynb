{
 "cells": [
  {
   "cell_type": "code",
   "execution_count": 1,
   "metadata": {},
   "outputs": [],
   "source": [
    "from qiskit import *  \n",
    "from time import time #importamos la función time para capturar tiempos\n",
    "from qiskit.circuit import Parameter \n",
    "from qiskit.compiler import transpile, assemble\n",
    "from qiskit.tools.jupyter import *\n",
    "#librerias para visualizaciones\n",
    "from qiskit.tools.visualization import plot_state_paulivec\n",
    "from qiskit.tools.visualization import plot_histogram\n",
    "from qiskit.tools.visualization import plot_state_city\n",
    "from qiskit.visualization import plot_bloch_multivector\n",
    "#python\n",
    "import numpy as np\n",
    "import matplotlib.pyplot as plt\n",
    "import cmath\n",
    "\n",
    "# Simuladores estandar \n",
    "SS = Aer.get_backend('statevector_simulator')\n",
    "QS = Aer.get_backend('qasm_simulator')"
   ]
  },
  {
   "cell_type": "code",
   "execution_count": 2,
   "metadata": {},
   "outputs": [
    {
     "data": {
      "text/plain": [
       "{'qiskit-terra': '0.16.1',\n",
       " 'qiskit-aer': '0.7.1',\n",
       " 'qiskit-ignis': '0.5.1',\n",
       " 'qiskit-ibmq-provider': '0.11.1',\n",
       " 'qiskit-aqua': '0.8.1',\n",
       " 'qiskit': '0.23.1'}"
      ]
     },
     "execution_count": 2,
     "metadata": {},
     "output_type": "execute_result"
    }
   ],
   "source": [
    "qiskit.__qiskit_version__"
   ]
  },
  {
   "cell_type": "markdown",
   "metadata": {},
   "source": [
    "<h1> Dos spines acoplados </h1>\n",
    "\n",
    "\n",
    "El Hamiltoniano usado por Ariel en la simulación de la figura 1.b) (del paper: Coding closed and open quantum systems\n",
    "in MATLAB: applications in quantum\n",
    "optics and condensed matter) es:\n",
    "    \\begin{eqnarray}\n",
    "    H = -J \\sigma_x^{(1)}\\otimes\\sigma_x^{(2)}-B(\\sigma_x^{(1)}+\\sigma_x^{(2)}),\n",
    "    \\end{eqnarray}\n",
    "es decir, no usa $S_x=\\sigma_x/2$ (ver los codigos en el paper). Como todos los operadores de $H$ conmutan no es necesario usar Trotter-Suzuki. La magnetización promedio en $z$ calculada en el paper esta dada por:\n",
    "\n",
    "\\begin{eqnarray}\n",
    "\\langle M_z\\rangle = \\frac{1}{2}(\\langle \\sigma_z^{(1)}\\rangle + \\langle \\sigma_z^{(2)}\\rangle).\n",
    "\\end{eqnarray}\n",
    "\n",
    "Consideramos un estado arbitrario $|\\psi \\rangle$ en el espacio de dos qubits (el cual representa a los dos espines):\n",
    "\\begin{eqnarray}\n",
    "| \\psi \\rangle = \\alpha | 00 \\rangle + \\beta | 01\\rangle + \\gamma |10\\rangle + \\epsilon |11\\rangle.\n",
    "\\end{eqnarray}\n",
    "Calculando el promedio de $\\sigma_z^{(i)}$ en este estado arbitrario obtenemos:\n",
    "\\begin{eqnarray}\n",
    "\\langle\\sigma_z^{(1)} \\rangle= |\\alpha|^2+|\\beta|^2-|\\gamma|^2-|\\epsilon|^2\\\\\n",
    "\\langle \\sigma_z^{(2)} \\rangle = |\\alpha|^2-|\\beta|^2+|\\gamma|^2-|\\epsilon|^2,\\\\\n",
    "\\end{eqnarray}\n",
    "de modo que la magnetización nos queda:\n",
    "\\begin{eqnarray}\n",
    "\\langle M_z\\rangle &=& \\frac{1}{2}(2|\\alpha|^2-2|\\epsilon|^2)\\\\\n",
    "&=& |\\alpha|^2-|\\epsilon|^2.\n",
    "\\end{eqnarray}\n",
    "Dado que $|\\alpha|^2$ ($|\\epsilon|^2$) es la probabilidad de medir el estado $|00\\rangle$ ($|11\\rangle$) podemos expresarlos con circuitos cuánticos usando:\n",
    "\\begin{eqnarray}\n",
    "P_{11} = |\\alpha|^2 = \\frac{\\mbox{N° de veces que se mide 00}}{\\mbox{N° total de mediciones}}.\n",
    "\\end{eqnarray}\n",
    "y lo mismo para $|11\\rangle$."
   ]
  },
  {
   "cell_type": "code",
   "execution_count": 2,
   "metadata": {},
   "outputs": [
    {
     "data": {
      "text/html": [
       "<pre style=\"word-wrap: normal;white-space: pre;background: #fff0;line-height: 1.1;font-family: &quot;Courier New&quot;,Courier,monospace\">           ┌───┐┌───────┐┌─────────┐                ┌───┐ ░ ┌───────┐»\n",
       "      q_0: ┤ X ├┤ RZ(θ) ├┤0        ├───────■────────┤ X ├─░─┤ RZ(θ) ├»\n",
       "           ├───┤├───────┤│  RXX(ϕ) │       │        └─┬─┘ ░ ├───────┤»\n",
       "      q_1: ┤ X ├┤ RZ(θ) ├┤1        ├───────┼──────────┼───░─┤ RZ(θ) ├»\n",
       "           └───┘└───────┘└─────────┘┌──────┴───────┐  │   ░ └───────┘»\n",
       "ancilla_0: ─────────────────────────┤ U(2*θ,0,0,0) ├──■───░──────────»\n",
       "                                    └──────────────┘      ░          »\n",
       "     c0: 1/══════════════════════════════════════════════════════════»\n",
       "                                                                     »\n",
       "«           ┌─────────┐                ┌───┐ ░ ┌───────┐┌─────────┐»\n",
       "«      q_0: ┤0        ├───────■────────┤ X ├─░─┤ RZ(θ) ├┤0        ├»\n",
       "«           │  RXX(ϕ) │       │        └─┬─┘ ░ ├───────┤│  RXX(ϕ) │»\n",
       "«      q_1: ┤1        ├───────┼──────────┼───░─┤ RZ(θ) ├┤1        ├»\n",
       "«           └─────────┘┌──────┴───────┐  │   ░ └───────┘└─────────┘»\n",
       "«ancilla_0: ───────────┤ U(2*θ,0,0,0) ├──■───░─────────────────────»\n",
       "«                      └──────────────┘      ░                     »\n",
       "«     c0: 1/═══════════════════════════════════════════════════════»\n",
       "«                                                                  »\n",
       "«                           ┌───┐ ░ ┌───────┐┌─────────┐                ┌───┐»\n",
       "«      q_0: ───────■────────┤ X ├─░─┤ RZ(θ) ├┤0        ├───────■────────┤ X ├»\n",
       "«                  │        └─┬─┘ ░ ├───────┤│  RXX(ϕ) │       │        └─┬─┘»\n",
       "«      q_1: ───────┼──────────┼───░─┤ RZ(θ) ├┤1        ├───────┼──────────┼──»\n",
       "«           ┌──────┴───────┐  │   ░ └───────┘└─────────┘┌──────┴───────┐  │  »\n",
       "«ancilla_0: ┤ U(2*θ,0,0,0) ├──■───░─────────────────────┤ U(2*θ,0,0,0) ├──■──»\n",
       "«           └──────────────┘      ░                     └──────────────┘     »\n",
       "«     c0: 1/═════════════════════════════════════════════════════════════════»\n",
       "«                                                                            »\n",
       "«            ░ ┌─┐\n",
       "«      q_0: ─░─┤M├\n",
       "«            ░ └╥┘\n",
       "«      q_1: ─░──╫─\n",
       "«            ░  ║ \n",
       "«ancilla_0: ─░──╫─\n",
       "«            ░  ║ \n",
       "«     c0: 1/════╩═\n",
       "«               0 </pre>"
      ],
      "text/plain": [
       "           ┌───┐┌───────┐┌─────────┐                ┌───┐ ░ ┌───────┐»\n",
       "      q_0: ┤ X ├┤ RZ(θ) ├┤0        ├───────■────────┤ X ├─░─┤ RZ(θ) ├»\n",
       "           ├───┤├───────┤│  RXX(ϕ) │       │        └─┬─┘ ░ ├───────┤»\n",
       "      q_1: ┤ X ├┤ RZ(θ) ├┤1        ├───────┼──────────┼───░─┤ RZ(θ) ├»\n",
       "           └───┘└───────┘└─────────┘┌──────┴───────┐  │   ░ └───────┘»\n",
       "ancilla_0: ─────────────────────────┤ U(2*θ,0,0,0) ├──■───░──────────»\n",
       "                                    └──────────────┘      ░          »\n",
       "     c0: 1/══════════════════════════════════════════════════════════»\n",
       "                                                                     »\n",
       "«           ┌─────────┐                ┌───┐ ░ ┌───────┐┌─────────┐»\n",
       "«      q_0: ┤0        ├───────■────────┤ X ├─░─┤ RZ(θ) ├┤0        ├»\n",
       "«           │  RXX(ϕ) │       │        └─┬─┘ ░ ├───────┤│  RXX(ϕ) │»\n",
       "«      q_1: ┤1        ├───────┼──────────┼───░─┤ RZ(θ) ├┤1        ├»\n",
       "«           └─────────┘┌──────┴───────┐  │   ░ └───────┘└─────────┘»\n",
       "«ancilla_0: ───────────┤ U(2*θ,0,0,0) ├──■───░─────────────────────»\n",
       "«                      └──────────────┘      ░                     »\n",
       "«     c0: 1/═══════════════════════════════════════════════════════»\n",
       "«                                                                  »\n",
       "«                           ┌───┐ ░ ┌───────┐┌─────────┐                ┌───┐»\n",
       "«      q_0: ───────■────────┤ X ├─░─┤ RZ(θ) ├┤0        ├───────■────────┤ X ├»\n",
       "«                  │        └─┬─┘ ░ ├───────┤│  RXX(ϕ) │       │        └─┬─┘»\n",
       "«      q_1: ───────┼──────────┼───░─┤ RZ(θ) ├┤1        ├───────┼──────────┼──»\n",
       "«           ┌──────┴───────┐  │   ░ └───────┘└─────────┘┌──────┴───────┐  │  »\n",
       "«ancilla_0: ┤ U(2*θ,0,0,0) ├──■───░─────────────────────┤ U(2*θ,0,0,0) ├──■──»\n",
       "«           └──────────────┘      ░                     └──────────────┘     »\n",
       "«     c0: 1/═════════════════════════════════════════════════════════════════»\n",
       "«                                                                            »\n",
       "«            ░ ┌─┐\n",
       "«      q_0: ─░─┤M├\n",
       "«            ░ └╥┘\n",
       "«      q_1: ─░──╫─\n",
       "«            ░  ║ \n",
       "«ancilla_0: ─░──╫─\n",
       "«            ░  ║ \n",
       "«     c0: 1/════╩═\n",
       "«               0 "
      ]
     },
     "execution_count": 2,
     "metadata": {},
     "output_type": "execute_result"
    }
   ],
   "source": [
    "#Este es el circuito para Amplitude Damping\n",
    "theta = Parameter('θ')\n",
    "phi = Parameter('ϕ')\n",
    "qr = QuantumRegister(2,'q')\n",
    "an = QuantumRegister(1,'ancilla')\n",
    "cr = ClassicalRegister(1)\n",
    "qc = QuantumCircuit(qr,an,cr)\n",
    "n= 4\n",
    "qc.x(qr[0])\n",
    "qc.x(qr[1])\n",
    "for i in range(n):\n",
    "    qc.rz(theta, qr[0])\n",
    "    qc.rz(theta, qr[1])\n",
    "    qc.rxx(phi,qubit1= qr[0],qubit2=qr[1])\n",
    "    qc.cu(2*theta,0,0,0,qr[0],an[0])\n",
    "    qc.cx(an[0],qr[0])\n",
    "    qc.barrier()\n",
    "\n",
    "qc.measure(qr[0],cr[0])\n",
    "qc.draw()"
   ]
  },
  {
   "cell_type": "code",
   "execution_count": 2,
   "metadata": {},
   "outputs": [
    {
     "data": {
      "image/png": "[encoded data removed]",
      "text/plain": [
       "<Figure size 432x288 with 1 Axes>"
      ]
     },
     "metadata": {
      "needs_background": "light"
     },
     "output_type": "display_data"
    },
    {
     "name": "stdout",
     "output_type": "stream",
     "text": [
      "t= 32.39133310317993\n"
     ]
    }
   ],
   "source": [
    "# Magnetización vs el tiempo\n",
    "ti = time()\n",
    "#parámetros de pérdidas\n",
    "gamma0=1e-2\n",
    "lamb=gamma0\n",
    "c10=1\n",
    "#parámetros del Hamiltoniano\n",
    "J = 1\n",
    "B = 0.1*J\n",
    "T = np.pi/B\n",
    "tf = T #hasta aquí, los parametros usados por Ariel para obtener la misma curva\n",
    "shots = 1024 #el N° total de mediciones\n",
    "n = 30 #para Trotter-Suzuki\n",
    "points_t = 500\n",
    "t=np.linspace(0,tf,points_t) #vector de tiempo que va de 0 a tf\n",
    "M_z = np.zeros(points_t) #vector de magnetización, inicialmente todo en 0\n",
    "\n",
    "for j in range(0,points_t):\n",
    "    qr = QuantumRegister(2,'q')\n",
    "    an = QuantumRegister(1,'ancilla')\n",
    "    cr = ClassicalRegister(2,'c')\n",
    "    qc = QuantumCircuit(qr,an,cr)\n",
    "    #Condición inicial |down down> == |11>\n",
    "    qc.x(qr[0])\n",
    "    qc.x(qr[1]) # las dos puertas X nos deja el estado |11>\n",
    "    \n",
    "    for i in range(n): # para el Trotter-Suzuki\n",
    "        qc.rz(-2*B*t[j]/n,qr[0])\n",
    "        qc.rz(-2*B*t[j]/n,qr[1])# las puertas del operador evolución a tiempo t[j]\n",
    "        qc.rxx(-2*J*t[j]/(n),qr[0],qr[1]) # \n",
    "   \n",
    "        R=gamma0/lamb \n",
    "        c1=c10*np.exp(-lamb*t[j]/2)*(cmath.cosh(lamb*t[j]*cmath.sqrt(1-2*R)/2)+ cmath.sinh(lamb*t[j]*cmath.sqrt(1-2*R)/2)/cmath.sqrt(1-2*R))\n",
    "        theta=np.arccos(c1.real)        \n",
    "\n",
    "        qc.cu(2*theta,0,0,0,qr[0],an[0])\n",
    "        qc.cx(an[0],qr[0])\n",
    "    \n",
    "    qc.measure(qr[0],cr[0])\n",
    "    qc.measure(qr[1],cr[1])\n",
    "    job = execute(qc, QS, shots = shots, seed_simulator = 1000)\n",
    "    result = job.result()\n",
    "    counts = result.get_counts()\n",
    "    if '00' in counts:\n",
    "        M_z[j] += (counts['00']/shots) #probabilidad de medir 00, se suma \n",
    "    if '11' in counts:\n",
    "        M_z[j] -= (counts['11']/shots) #probabilidad de medir 11, se resta\n",
    "        #Se guarda el M_z[j] resultante a tiempo t[j] \n",
    "\n",
    "    \n",
    "\n",
    "\n",
    "#Gráfico        \n",
    "tt = t/T\n",
    "plt.plot(tt,M_z)\n",
    "plt.xlabel(r'$t/T$')\n",
    "plt.ylabel(r'$\\langle M_z\\rangle $')\n",
    "plt.title(r'Two spins with quantum circuit')\n",
    "plt.show()  \n",
    "        \n",
    "tf = time()\n",
    "\n",
    "total = tf-ti\n",
    "print('t=',total)"
   ]
  },
  {
   "cell_type": "markdown",
   "metadata": {},
   "source": [
    "## Importante\n",
    "Tener en consideración que, para Qiskit, las compuertas que estamos usando son así:\n",
    "#### RXX\n",
    "\n",
    "$$\n",
    "        R_{XX}(\\theta) = exp(-i \\frac{\\theta}{2} X{\\otimes}X) =\n",
    "            \\begin{pmatrix}\n",
    "                \\cos(\\frac{\\theta}{2})   & 0           & 0           & -i\\sin(\\frac{\\theta}{2}) \\\\\n",
    "                0           & \\cos(\\frac{\\theta}{2})   & -i\\sin(\\frac{\\theta}{2}) & 0 \\\\\n",
    "                0           & -i\\sin(\\frac{\\theta}{2}) & \\cos(\\frac{\\theta}{2})   & 0 \\\\\n",
    "                -i\\sin(\\frac{\\theta}{2}) & 0           & 0           & \\cos(\\frac{\\theta}{2})\n",
    "            \\end{pmatrix}\n",
    "$$\n",
    "Fuente: <https://qiskit.org/documentation/stubs/qiskit.circuit.library.RXXGate.html>\n",
    "\n",
    "#### RZ\n",
    "$$\n",
    "RZ(\\lambda) = exp(-i\\frac{\\lambda}{2}Z) =\n",
    "            \\begin{pmatrix}\n",
    "                e^{-i\\frac{\\lambda}{2}} & 0 \\\\\n",
    "                0 & e^{i\\frac{\\lambda}{2}}\n",
    "            \\end{pmatrix}\n",
    "$$\n",
    "Fuente: <https://qiskit.org/documentation/stubs/qiskit.circuit.library.RZGate.html>"
   ]
  }
 ],
 "metadata": {
  "celltoolbar": "Raw Cell Format",
  "interpreter": {
   "hash": "1d76bb280da093bf7260b592363b449b8d54408228f36ce25dff58a9f746dd21"
  },
  "kernelspec": {
   "display_name": "Python 3",
   "language": "python",
   "name": "python3"
  },
  "language_info": {
   "codemirror_mode": {
    "name": "ipython",
    "version": 3
   },
   "file_extension": ".py",
   "mimetype": "text/x-python",
   "name": "python",
   "nbconvert_exporter": "python",
   "pygments_lexer": "ipython3",
   "version": "3.7.9"
  },
  "widgets": {
   "application/vnd.jupyter.widget-state+json": {
    "state": {},
    "version_major": 2,
    "version_minor": 0
   }
  }
 },
 "nbformat": 4,
 "nbformat_minor": 5
}
